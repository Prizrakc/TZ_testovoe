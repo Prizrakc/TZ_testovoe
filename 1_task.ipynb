{
 "cells": [
  {
   "cell_type": "code",
   "execution_count": 1,
   "metadata": {},
   "outputs": [],
   "source": [
    "import random"
   ]
  },
  {
   "cell_type": "code",
   "execution_count": 2,
   "metadata": {},
   "outputs": [],
   "source": [
    "def write_in_file(N,m,file):\n",
    "    with open(file, 'w+') as f:\n",
    "        for i in range(N):\n",
    "            strk = ''\n",
    "            for j in range(m):\n",
    "                strk += str(random.uniform(-1, 1)) + ','\n",
    "            f.write(strk[:-1] + '\\n' )"
   ]
  },
  {
   "cell_type": "code",
   "execution_count": 3,
   "metadata": {},
   "outputs": [],
   "source": [
    "def vvod():\n",
    "    N,m = 0,0\n",
    "    check = False\n",
    "    while not check:\n",
    "        try:\n",
    "            N = int(input('Введите N (500 < N ≤ 1000) = '))\n",
    "            m = int(input('Введите m ( 10 < m ≤ 50 ) = '))\n",
    "            if (N > 500 and N <= 1000 and m > 10 and m <= 50):\n",
    "                check = True\n",
    "            else:\n",
    "                print('Введите значение в диапазоне')\n",
    "        except:\n",
    "            print('Введите корректные значения')\n",
    "    print('Параметрами выбраны N = {0} m = {1}'.format(N,m))\n",
    "    return N,m\n"
   ]
  },
  {
   "cell_type": "code",
   "execution_count": 4,
   "metadata": {},
   "outputs": [],
   "source": [
    "def main():\n",
    "        v = input('Вы хотите вписать значения самостоятельно? (Y/N) \\n')\n",
    "        if v.upper() == 'Y':\n",
    "            N,m = vvod()\n",
    "        else:\n",
    "            N = random.randint(500,1000)\n",
    "            m = random.randint(10,50)\n",
    "            print('Параметрами выбраны рандомные числа N = {0} m = {1}'.format(N,m))\n",
    "        file = 'vectors.csv'\n",
    "        write_in_file(N,m,file)"
   ]
  },
  {
   "cell_type": "code",
   "execution_count": null,
   "metadata": {},
   "outputs": [],
   "source": [
    "if __name__ == \"__main__\":\n",
    "    main()"
   ]
  }
 ],
 "metadata": {
  "kernelspec": {
   "display_name": "Python 3",
   "language": "python",
   "name": "python3"
  },
  "language_info": {
   "codemirror_mode": {
    "name": "ipython",
    "version": 3
   },
   "file_extension": ".py",
   "mimetype": "text/x-python",
   "name": "python",
   "nbconvert_exporter": "python",
   "pygments_lexer": "ipython3",
   "version": "3.8.5"
  }
 },
 "nbformat": 4,
 "nbformat_minor": 4
}
